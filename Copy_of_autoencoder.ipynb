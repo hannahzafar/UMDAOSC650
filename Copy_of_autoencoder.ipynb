{
  "nbformat": 4,
  "nbformat_minor": 0,
  "metadata": {
    "colab": {
      "provenance": [],
      "include_colab_link": true
    },
    "kernelspec": {
      "name": "python3",
      "display_name": "Python 3"
    },
    "language_info": {
      "name": "python"
    }
  },
  "cells": [
    {
      "cell_type": "markdown",
      "metadata": {
        "id": "view-in-github",
        "colab_type": "text"
      },
      "source": [
        "<a href=\"https://colab.research.google.com/github/hannahzafar/UMDAOSC650/blob/main/Copy_of_autoencoder.ipynb\" target=\"_parent\"><img src=\"https://colab.research.google.com/assets/colab-badge.svg\" alt=\"Open In Colab\"/></a>"
      ]
    },
    {
      "cell_type": "code",
      "source": [
        "import numpy as np\n",
        "import matplotlib.pyplot as plt\n",
        "import xarray as xr\n",
        "from sklearn.preprocessing import StandardScaler\n",
        "from sklearn.model_selection import train_test_split\n",
        "import keras\n",
        "from keras import layers"
      ],
      "metadata": {
        "id": "7IgRdMrZBxRF"
      },
      "execution_count": null,
      "outputs": []
    },
    {
      "cell_type": "code",
      "source": [
        "! wget https://zenodo.org/records/10576726/files/current_SP3hourly_20110427.nc"
      ],
      "metadata": {
        "colab": {
          "base_uri": "https://localhost:8080/"
        },
        "id": "a6Z5jbwtB58E",
        "outputId": "601e8b2e-937e-41de-80ce-b792dc590d4f"
      },
      "execution_count": null,
      "outputs": [
        {
          "output_type": "stream",
          "name": "stdout",
          "text": [
            "--2024-04-04 17:33:24--  https://zenodo.org/records/10576726/files/current_SP3hourly_20110427.nc\n",
            "Resolving zenodo.org (zenodo.org)... 188.184.103.159, 188.185.79.172, 188.184.98.238, ...\n",
            "Connecting to zenodo.org (zenodo.org)|188.184.103.159|:443... connected.\n",
            "HTTP request sent, awaiting response... 200 OK\n",
            "Length: 109400556 (104M) [application/octet-stream]\n",
            "Saving to: ‘current_SP3hourly_20110427.nc.1’\n",
            "\n",
            "current_SP3hourly_2 100%[===================>] 104.33M  17.4MB/s    in 8.1s    \n",
            "\n",
            "2024-04-04 17:33:34 (12.9 MB/s) - ‘current_SP3hourly_20110427.nc.1’ saved [109400556/109400556]\n",
            "\n"
          ]
        }
      ]
    },
    {
      "cell_type": "code",
      "source": [
        "ds = xr.open_dataset('current_SP3hourly_20110427.nc')"
      ],
      "metadata": {
        "id": "kvvqhZ8HB8Ot"
      },
      "execution_count": null,
      "outputs": []
    },
    {
      "cell_type": "markdown",
      "source": [
        "## ANN Autoencoder"
      ],
      "metadata": {
        "id": "wVklUrN4Ekw2"
      }
    },
    {
      "cell_type": "markdown",
      "source": [
        "We will be training an autoencoder to perform the task of anomaly detection. For anomaly detection, we would note instances where reconstruction error for an image is higher, indicating that the sample was likely not similar to those in the training set distribution.\n",
        "\n",
        "We will again use the previous data, but this time we will focus on reconstructing one input variable (feature)."
      ],
      "metadata": {
        "id": "qqoNw_88CTV3"
      }
    },
    {
      "cell_type": "code",
      "source": [
        "ds['ctt_grid']"
      ],
      "metadata": {
        "id": "2-o4aduf_Pxs",
        "outputId": "84b74e07-ead4-41dc-ef72-5afad321781f",
        "colab": {
          "base_uri": "https://localhost:8080/",
          "height": 240
        }
      },
      "execution_count": null,
      "outputs": [
        {
          "output_type": "execute_result",
          "data": {
            "text/plain": [
              "<xarray.DataArray 'ctt_grid' (starttime: 2224, y: 32, x: 32)>\n",
              "[2277376 values with dtype=float32]\n",
              "Coordinates:\n",
              "  * starttime  (starttime) float64 9.264e+04 9.264e+04 ... 9.266e+04 9.266e+04\n",
              "    endtime    (starttime) float64 ...\n",
              "    x_speed    (starttime) int64 ...\n",
              "    y_speed    (starttime) int64 ...\n",
              "Dimensions without coordinates: y, x"
            ],
            "text/html": [
              "<div><svg style=\"position: absolute; width: 0; height: 0; overflow: hidden\">\n",
              "<defs>\n",
              "<symbol id=\"icon-database\" viewBox=\"0 0 32 32\">\n",
              "<path d=\"M16 0c-8.837 0-16 2.239-16 5v4c0 2.761 7.163 5 16 5s16-2.239 16-5v-4c0-2.761-7.163-5-16-5z\"></path>\n",
              "<path d=\"M16 17c-8.837 0-16-2.239-16-5v6c0 2.761 7.163 5 16 5s16-2.239 16-5v-6c0 2.761-7.163 5-16 5z\"></path>\n",
              "<path d=\"M16 26c-8.837 0-16-2.239-16-5v6c0 2.761 7.163 5 16 5s16-2.239 16-5v-6c0 2.761-7.163 5-16 5z\"></path>\n",
              "</symbol>\n",
              "<symbol id=\"icon-file-text2\" viewBox=\"0 0 32 32\">\n",
              "<path d=\"M28.681 7.159c-0.694-0.947-1.662-2.053-2.724-3.116s-2.169-2.030-3.116-2.724c-1.612-1.182-2.393-1.319-2.841-1.319h-15.5c-1.378 0-2.5 1.121-2.5 2.5v27c0 1.378 1.122 2.5 2.5 2.5h23c1.378 0 2.5-1.122 2.5-2.5v-19.5c0-0.448-0.137-1.23-1.319-2.841zM24.543 5.457c0.959 0.959 1.712 1.825 2.268 2.543h-4.811v-4.811c0.718 0.556 1.584 1.309 2.543 2.268zM28 29.5c0 0.271-0.229 0.5-0.5 0.5h-23c-0.271 0-0.5-0.229-0.5-0.5v-27c0-0.271 0.229-0.5 0.5-0.5 0 0 15.499-0 15.5 0v7c0 0.552 0.448 1 1 1h7v19.5z\"></path>\n",
              "<path d=\"M23 26h-14c-0.552 0-1-0.448-1-1s0.448-1 1-1h14c0.552 0 1 0.448 1 1s-0.448 1-1 1z\"></path>\n",
              "<path d=\"M23 22h-14c-0.552 0-1-0.448-1-1s0.448-1 1-1h14c0.552 0 1 0.448 1 1s-0.448 1-1 1z\"></path>\n",
              "<path d=\"M23 18h-14c-0.552 0-1-0.448-1-1s0.448-1 1-1h14c0.552 0 1 0.448 1 1s-0.448 1-1 1z\"></path>\n",
              "</symbol>\n",
              "</defs>\n",
              "</svg>\n",
              "<style>/* CSS stylesheet for displaying xarray objects in jupyterlab.\n",
              " *\n",
              " */\n",
              "\n",
              ":root {\n",
              "  --xr-font-color0: var(--jp-content-font-color0, rgba(0, 0, 0, 1));\n",
              "  --xr-font-color2: var(--jp-content-font-color2, rgba(0, 0, 0, 0.54));\n",
              "  --xr-font-color3: var(--jp-content-font-color3, rgba(0, 0, 0, 0.38));\n",
              "  --xr-border-color: var(--jp-border-color2, #e0e0e0);\n",
              "  --xr-disabled-color: var(--jp-layout-color3, #bdbdbd);\n",
              "  --xr-background-color: var(--jp-layout-color0, white);\n",
              "  --xr-background-color-row-even: var(--jp-layout-color1, white);\n",
              "  --xr-background-color-row-odd: var(--jp-layout-color2, #eeeeee);\n",
              "}\n",
              "\n",
              "html[theme=dark],\n",
              "body[data-theme=dark],\n",
              "body.vscode-dark {\n",
              "  --xr-font-color0: rgba(255, 255, 255, 1);\n",
              "  --xr-font-color2: rgba(255, 255, 255, 0.54);\n",
              "  --xr-font-color3: rgba(255, 255, 255, 0.38);\n",
              "  --xr-border-color: #1F1F1F;\n",
              "  --xr-disabled-color: #515151;\n",
              "  --xr-background-color: #111111;\n",
              "  --xr-background-color-row-even: #111111;\n",
              "  --xr-background-color-row-odd: #313131;\n",
              "}\n",
              "\n",
              ".xr-wrap {\n",
              "  display: block !important;\n",
              "  min-width: 300px;\n",
              "  max-width: 700px;\n",
              "}\n",
              "\n",
              ".xr-text-repr-fallback {\n",
              "  /* fallback to plain text repr when CSS is not injected (untrusted notebook) */\n",
              "  display: none;\n",
              "}\n",
              "\n",
              ".xr-header {\n",
              "  padding-top: 6px;\n",
              "  padding-bottom: 6px;\n",
              "  margin-bottom: 4px;\n",
              "  border-bottom: solid 1px var(--xr-border-color);\n",
              "}\n",
              "\n",
              ".xr-header > div,\n",
              ".xr-header > ul {\n",
              "  display: inline;\n",
              "  margin-top: 0;\n",
              "  margin-bottom: 0;\n",
              "}\n",
              "\n",
              ".xr-obj-type,\n",
              ".xr-array-name {\n",
              "  margin-left: 2px;\n",
              "  margin-right: 10px;\n",
              "}\n",
              "\n",
              ".xr-obj-type {\n",
              "  color: var(--xr-font-color2);\n",
              "}\n",
              "\n",
              ".xr-sections {\n",
              "  padding-left: 0 !important;\n",
              "  display: grid;\n",
              "  grid-template-columns: 150px auto auto 1fr 20px 20px;\n",
              "}\n",
              "\n",
              ".xr-section-item {\n",
              "  display: contents;\n",
              "}\n",
              "\n",
              ".xr-section-item input {\n",
              "  display: none;\n",
              "}\n",
              "\n",
              ".xr-section-item input + label {\n",
              "  color: var(--xr-disabled-color);\n",
              "}\n",
              "\n",
              ".xr-section-item input:enabled + label {\n",
              "  cursor: pointer;\n",
              "  color: var(--xr-font-color2);\n",
              "}\n",
              "\n",
              ".xr-section-item input:enabled + label:hover {\n",
              "  color: var(--xr-font-color0);\n",
              "}\n",
              "\n",
              ".xr-section-summary {\n",
              "  grid-column: 1;\n",
              "  color: var(--xr-font-color2);\n",
              "  font-weight: 500;\n",
              "}\n",
              "\n",
              ".xr-section-summary > span {\n",
              "  display: inline-block;\n",
              "  padding-left: 0.5em;\n",
              "}\n",
              "\n",
              ".xr-section-summary-in:disabled + label {\n",
              "  color: var(--xr-font-color2);\n",
              "}\n",
              "\n",
              ".xr-section-summary-in + label:before {\n",
              "  display: inline-block;\n",
              "  content: '►';\n",
              "  font-size: 11px;\n",
              "  width: 15px;\n",
              "  text-align: center;\n",
              "}\n",
              "\n",
              ".xr-section-summary-in:disabled + label:before {\n",
              "  color: var(--xr-disabled-color);\n",
              "}\n",
              "\n",
              ".xr-section-summary-in:checked + label:before {\n",
              "  content: '▼';\n",
              "}\n",
              "\n",
              ".xr-section-summary-in:checked + label > span {\n",
              "  display: none;\n",
              "}\n",
              "\n",
              ".xr-section-summary,\n",
              ".xr-section-inline-details {\n",
              "  padding-top: 4px;\n",
              "  padding-bottom: 4px;\n",
              "}\n",
              "\n",
              ".xr-section-inline-details {\n",
              "  grid-column: 2 / -1;\n",
              "}\n",
              "\n",
              ".xr-section-details {\n",
              "  display: none;\n",
              "  grid-column: 1 / -1;\n",
              "  margin-bottom: 5px;\n",
              "}\n",
              "\n",
              ".xr-section-summary-in:checked ~ .xr-section-details {\n",
              "  display: contents;\n",
              "}\n",
              "\n",
              ".xr-array-wrap {\n",
              "  grid-column: 1 / -1;\n",
              "  display: grid;\n",
              "  grid-template-columns: 20px auto;\n",
              "}\n",
              "\n",
              ".xr-array-wrap > label {\n",
              "  grid-column: 1;\n",
              "  vertical-align: top;\n",
              "}\n",
              "\n",
              ".xr-preview {\n",
              "  color: var(--xr-font-color3);\n",
              "}\n",
              "\n",
              ".xr-array-preview,\n",
              ".xr-array-data {\n",
              "  padding: 0 5px !important;\n",
              "  grid-column: 2;\n",
              "}\n",
              "\n",
              ".xr-array-data,\n",
              ".xr-array-in:checked ~ .xr-array-preview {\n",
              "  display: none;\n",
              "}\n",
              "\n",
              ".xr-array-in:checked ~ .xr-array-data,\n",
              ".xr-array-preview {\n",
              "  display: inline-block;\n",
              "}\n",
              "\n",
              ".xr-dim-list {\n",
              "  display: inline-block !important;\n",
              "  list-style: none;\n",
              "  padding: 0 !important;\n",
              "  margin: 0;\n",
              "}\n",
              "\n",
              ".xr-dim-list li {\n",
              "  display: inline-block;\n",
              "  padding: 0;\n",
              "  margin: 0;\n",
              "}\n",
              "\n",
              ".xr-dim-list:before {\n",
              "  content: '(';\n",
              "}\n",
              "\n",
              ".xr-dim-list:after {\n",
              "  content: ')';\n",
              "}\n",
              "\n",
              ".xr-dim-list li:not(:last-child):after {\n",
              "  content: ',';\n",
              "  padding-right: 5px;\n",
              "}\n",
              "\n",
              ".xr-has-index {\n",
              "  font-weight: bold;\n",
              "}\n",
              "\n",
              ".xr-var-list,\n",
              ".xr-var-item {\n",
              "  display: contents;\n",
              "}\n",
              "\n",
              ".xr-var-item > div,\n",
              ".xr-var-item label,\n",
              ".xr-var-item > .xr-var-name span {\n",
              "  background-color: var(--xr-background-color-row-even);\n",
              "  margin-bottom: 0;\n",
              "}\n",
              "\n",
              ".xr-var-item > .xr-var-name:hover span {\n",
              "  padding-right: 5px;\n",
              "}\n",
              "\n",
              ".xr-var-list > li:nth-child(odd) > div,\n",
              ".xr-var-list > li:nth-child(odd) > label,\n",
              ".xr-var-list > li:nth-child(odd) > .xr-var-name span {\n",
              "  background-color: var(--xr-background-color-row-odd);\n",
              "}\n",
              "\n",
              ".xr-var-name {\n",
              "  grid-column: 1;\n",
              "}\n",
              "\n",
              ".xr-var-dims {\n",
              "  grid-column: 2;\n",
              "}\n",
              "\n",
              ".xr-var-dtype {\n",
              "  grid-column: 3;\n",
              "  text-align: right;\n",
              "  color: var(--xr-font-color2);\n",
              "}\n",
              "\n",
              ".xr-var-preview {\n",
              "  grid-column: 4;\n",
              "}\n",
              "\n",
              ".xr-index-preview {\n",
              "  grid-column: 2 / 5;\n",
              "  color: var(--xr-font-color2);\n",
              "}\n",
              "\n",
              ".xr-var-name,\n",
              ".xr-var-dims,\n",
              ".xr-var-dtype,\n",
              ".xr-preview,\n",
              ".xr-attrs dt {\n",
              "  white-space: nowrap;\n",
              "  overflow: hidden;\n",
              "  text-overflow: ellipsis;\n",
              "  padding-right: 10px;\n",
              "}\n",
              "\n",
              ".xr-var-name:hover,\n",
              ".xr-var-dims:hover,\n",
              ".xr-var-dtype:hover,\n",
              ".xr-attrs dt:hover {\n",
              "  overflow: visible;\n",
              "  width: auto;\n",
              "  z-index: 1;\n",
              "}\n",
              "\n",
              ".xr-var-attrs,\n",
              ".xr-var-data,\n",
              ".xr-index-data {\n",
              "  display: none;\n",
              "  background-color: var(--xr-background-color) !important;\n",
              "  padding-bottom: 5px !important;\n",
              "}\n",
              "\n",
              ".xr-var-attrs-in:checked ~ .xr-var-attrs,\n",
              ".xr-var-data-in:checked ~ .xr-var-data,\n",
              ".xr-index-data-in:checked ~ .xr-index-data {\n",
              "  display: block;\n",
              "}\n",
              "\n",
              ".xr-var-data > table {\n",
              "  float: right;\n",
              "}\n",
              "\n",
              ".xr-var-name span,\n",
              ".xr-var-data,\n",
              ".xr-index-name div,\n",
              ".xr-index-data,\n",
              ".xr-attrs {\n",
              "  padding-left: 25px !important;\n",
              "}\n",
              "\n",
              ".xr-attrs,\n",
              ".xr-var-attrs,\n",
              ".xr-var-data,\n",
              ".xr-index-data {\n",
              "  grid-column: 1 / -1;\n",
              "}\n",
              "\n",
              "dl.xr-attrs {\n",
              "  padding: 0;\n",
              "  margin: 0;\n",
              "  display: grid;\n",
              "  grid-template-columns: 125px auto;\n",
              "}\n",
              "\n",
              ".xr-attrs dt,\n",
              ".xr-attrs dd {\n",
              "  padding: 0;\n",
              "  margin: 0;\n",
              "  float: left;\n",
              "  padding-right: 10px;\n",
              "  width: auto;\n",
              "}\n",
              "\n",
              ".xr-attrs dt {\n",
              "  font-weight: normal;\n",
              "  grid-column: 1;\n",
              "}\n",
              "\n",
              ".xr-attrs dt:hover span {\n",
              "  display: inline-block;\n",
              "  background: var(--xr-background-color);\n",
              "  padding-right: 10px;\n",
              "}\n",
              "\n",
              ".xr-attrs dd {\n",
              "  grid-column: 2;\n",
              "  white-space: pre-wrap;\n",
              "  word-break: break-all;\n",
              "}\n",
              "\n",
              ".xr-icon-database,\n",
              ".xr-icon-file-text2,\n",
              ".xr-no-icon {\n",
              "  display: inline-block;\n",
              "  vertical-align: middle;\n",
              "  width: 1em;\n",
              "  height: 1.5em !important;\n",
              "  stroke-width: 0;\n",
              "  stroke: currentColor;\n",
              "  fill: currentColor;\n",
              "}\n",
              "</style><pre class='xr-text-repr-fallback'>&lt;xarray.DataArray &#x27;ctt_grid&#x27; (starttime: 2224, y: 32, x: 32)&gt;\n",
              "[2277376 values with dtype=float32]\n",
              "Coordinates:\n",
              "  * starttime  (starttime) float64 9.264e+04 9.264e+04 ... 9.266e+04 9.266e+04\n",
              "    endtime    (starttime) float64 ...\n",
              "    x_speed    (starttime) int64 ...\n",
              "    y_speed    (starttime) int64 ...\n",
              "Dimensions without coordinates: y, x</pre><div class='xr-wrap' style='display:none'><div class='xr-header'><div class='xr-obj-type'>xarray.DataArray</div><div class='xr-array-name'>'ctt_grid'</div><ul class='xr-dim-list'><li><span class='xr-has-index'>starttime</span>: 2224</li><li><span>y</span>: 32</li><li><span>x</span>: 32</li></ul></div><ul class='xr-sections'><li class='xr-section-item'><div class='xr-array-wrap'><input id='section-b9dc82f5-ce4f-48a6-bb65-8137edec9f1c' class='xr-array-in' type='checkbox' checked><label for='section-b9dc82f5-ce4f-48a6-bb65-8137edec9f1c' title='Show/hide data repr'><svg class='icon xr-icon-database'><use xlink:href='#icon-database'></use></svg></label><div class='xr-array-preview xr-preview'><span>...</span></div><div class='xr-array-data'><pre>[2277376 values with dtype=float32]</pre></div></div></li><li class='xr-section-item'><input id='section-d15086cf-8d43-4b0f-a950-934e0ddeb814' class='xr-section-summary-in' type='checkbox'  checked><label for='section-d15086cf-8d43-4b0f-a950-934e0ddeb814' class='xr-section-summary' >Coordinates: <span>(4)</span></label><div class='xr-section-inline-details'></div><div class='xr-section-details'><ul class='xr-var-list'><li class='xr-var-item'><div class='xr-var-name'><span class='xr-has-index'>starttime</span></div><div class='xr-var-dims'>(starttime)</div><div class='xr-var-dtype'>float64</div><div class='xr-var-preview xr-preview'>9.264e+04 9.264e+04 ... 9.266e+04</div><input id='attrs-576c84d9-fb03-4285-a4b7-4a6cf84ea4cf' class='xr-var-attrs-in' type='checkbox' disabled><label for='attrs-576c84d9-fb03-4285-a4b7-4a6cf84ea4cf' title='Show/Hide attributes'><svg class='icon xr-icon-file-text2'><use xlink:href='#icon-file-text2'></use></svg></label><input id='data-785cc625-cbd3-42b9-853a-39f1ded3cece' class='xr-var-data-in' type='checkbox'><label for='data-785cc625-cbd3-42b9-853a-39f1ded3cece' title='Show/Hide data repr'><svg class='icon xr-icon-database'><use xlink:href='#icon-database'></use></svg></label><div class='xr-var-attrs'><dl class='xr-attrs'></dl></div><div class='xr-var-data'><pre>array([92640., 92640., 92640., ..., 92661., 92661., 92661.])</pre></div></li><li class='xr-var-item'><div class='xr-var-name'><span>endtime</span></div><div class='xr-var-dims'>(starttime)</div><div class='xr-var-dtype'>float64</div><div class='xr-var-preview xr-preview'>...</div><input id='attrs-00169d94-5d0d-4d8c-b356-cb0b56057458' class='xr-var-attrs-in' type='checkbox' disabled><label for='attrs-00169d94-5d0d-4d8c-b356-cb0b56057458' title='Show/Hide attributes'><svg class='icon xr-icon-file-text2'><use xlink:href='#icon-file-text2'></use></svg></label><input id='data-baff9214-cdad-4949-a139-a75954f7d929' class='xr-var-data-in' type='checkbox'><label for='data-baff9214-cdad-4949-a139-a75954f7d929' title='Show/Hide data repr'><svg class='icon xr-icon-database'><use xlink:href='#icon-database'></use></svg></label><div class='xr-var-attrs'><dl class='xr-attrs'></dl></div><div class='xr-var-data'><pre>[2224 values with dtype=float64]</pre></div></li><li class='xr-var-item'><div class='xr-var-name'><span>x_speed</span></div><div class='xr-var-dims'>(starttime)</div><div class='xr-var-dtype'>int64</div><div class='xr-var-preview xr-preview'>...</div><input id='attrs-dfd30e15-ab25-4117-9cd4-e46f3ad8d242' class='xr-var-attrs-in' type='checkbox' disabled><label for='attrs-dfd30e15-ab25-4117-9cd4-e46f3ad8d242' title='Show/Hide attributes'><svg class='icon xr-icon-file-text2'><use xlink:href='#icon-file-text2'></use></svg></label><input id='data-317c27d3-d482-468a-96e2-ea713c1327e7' class='xr-var-data-in' type='checkbox'><label for='data-317c27d3-d482-468a-96e2-ea713c1327e7' title='Show/Hide data repr'><svg class='icon xr-icon-database'><use xlink:href='#icon-database'></use></svg></label><div class='xr-var-attrs'><dl class='xr-attrs'></dl></div><div class='xr-var-data'><pre>[2224 values with dtype=int64]</pre></div></li><li class='xr-var-item'><div class='xr-var-name'><span>y_speed</span></div><div class='xr-var-dims'>(starttime)</div><div class='xr-var-dtype'>int64</div><div class='xr-var-preview xr-preview'>...</div><input id='attrs-b7f22428-b248-47e8-b95b-5420e73a33df' class='xr-var-attrs-in' type='checkbox' disabled><label for='attrs-b7f22428-b248-47e8-b95b-5420e73a33df' title='Show/Hide attributes'><svg class='icon xr-icon-file-text2'><use xlink:href='#icon-file-text2'></use></svg></label><input id='data-150556b8-7fc6-44ec-9f65-b0329c238489' class='xr-var-data-in' type='checkbox'><label for='data-150556b8-7fc6-44ec-9f65-b0329c238489' title='Show/Hide data repr'><svg class='icon xr-icon-database'><use xlink:href='#icon-database'></use></svg></label><div class='xr-var-attrs'><dl class='xr-attrs'></dl></div><div class='xr-var-data'><pre>[2224 values with dtype=int64]</pre></div></li></ul></div></li><li class='xr-section-item'><input id='section-197e134d-310b-428e-8726-6efb662464e6' class='xr-section-summary-in' type='checkbox'  ><label for='section-197e134d-310b-428e-8726-6efb662464e6' class='xr-section-summary' >Indexes: <span>(1)</span></label><div class='xr-section-inline-details'></div><div class='xr-section-details'><ul class='xr-var-list'><li class='xr-var-item'><div class='xr-index-name'><div>starttime</div></div><div class='xr-index-preview'>PandasIndex</div><div></div><input id='index-12e8ed8f-4a84-42e9-b2ca-51f308aa6a30' class='xr-index-data-in' type='checkbox'/><label for='index-12e8ed8f-4a84-42e9-b2ca-51f308aa6a30' title='Show/Hide index repr'><svg class='icon xr-icon-database'><use xlink:href='#icon-database'></use></svg></label><div class='xr-index-data'><pre>PandasIndex(Index([92640.0, 92640.0, 92640.0, 92640.0, 92640.0, 92640.0, 92640.0, 92640.0,\n",
              "       92640.0, 92640.0,\n",
              "       ...\n",
              "       92661.0, 92661.0, 92661.0, 92661.0, 92661.0, 92661.0, 92661.0, 92661.0,\n",
              "       92661.0, 92661.0],\n",
              "      dtype=&#x27;float64&#x27;, name=&#x27;starttime&#x27;, length=2224))</pre></div></li></ul></div></li><li class='xr-section-item'><input id='section-44f15c72-d581-4353-897b-35c9e6a74194' class='xr-section-summary-in' type='checkbox' disabled ><label for='section-44f15c72-d581-4353-897b-35c9e6a74194' class='xr-section-summary'  title='Expand/collapse section'>Attributes: <span>(0)</span></label><div class='xr-section-inline-details'></div><div class='xr-section-details'><dl class='xr-attrs'></dl></div></li></ul></div></div>"
            ]
          },
          "metadata": {},
          "execution_count": 57
        }
      ]
    },
    {
      "cell_type": "code",
      "source": [
        "# reshape data to be samples, features\n",
        "features_data = ds['ctt_grid'].stack(new_dim=([\"y\", \"x\"])).values\n",
        "print(features_data.shape)"
      ],
      "metadata": {
        "colab": {
          "base_uri": "https://localhost:8080/"
        },
        "id": "Dg1nX786FXrR",
        "outputId": "08707a8a-f6dd-4921-8f63-111cf327bd31"
      },
      "execution_count": null,
      "outputs": [
        {
          "output_type": "stream",
          "name": "stdout",
          "text": [
            "(2224, 1024)\n"
          ]
        }
      ]
    },
    {
      "cell_type": "code",
      "source": [
        "features_data"
      ],
      "metadata": {
        "colab": {
          "base_uri": "https://localhost:8080/"
        },
        "id": "2vcr9t3cIsXN",
        "outputId": "281eab4e-56a1-43b0-d105-d835bf146771"
      },
      "execution_count": null,
      "outputs": [
        {
          "output_type": "execute_result",
          "data": {
            "text/plain": [
              "array([[30.846277 , 30.279108 , 29.919764 , ..., 26.711267 , 26.57281  ,\n",
              "        26.230433 ],\n",
              "       [25.258142 , 25.295069 , 25.32879  , ..., 26.084314 , 26.13833  ,\n",
              "        26.378107 ],\n",
              "       [25.233667 , 25.231287 , 25.23791  , ..., 26.249506 , 26.371729 ,\n",
              "        26.55047  ],\n",
              "       ...,\n",
              "       [22.516962 , 22.837183 , 23.074884 , ..., 25.021357 , 24.635523 ,\n",
              "        24.421412 ],\n",
              "       [ 6.1583495,  6.0256286,  5.8575683, ..., 13.852137 , 13.969812 ,\n",
              "        14.191675 ],\n",
              "       [ 9.9795475,  9.917505 ,  9.844233 , ...,  6.4862304,  6.860742 ,\n",
              "         6.9690795]], dtype=float32)"
            ]
          },
          "metadata": {},
          "execution_count": 59
        }
      ]
    },
    {
      "cell_type": "code",
      "source": [
        "X_train, X_test, y_train, y_test = train_test_split(\n",
        "    features_data,\n",
        "    features_data,\n",
        "    test_size=0.3,\n",
        "    shuffle=False,\n",
        "    random_state=42)"
      ],
      "metadata": {
        "id": "b7dfQyq4JIbF"
      },
      "execution_count": null,
      "outputs": []
    },
    {
      "cell_type": "code",
      "source": [
        "scaler = StandardScaler()\n",
        "scaler.fit(X_train)\n",
        "X_train = scaler.transform(X_train) # input\n",
        "X_test = scaler.transform(X_test) # input\n",
        "y_train = scaler.transform(y_train) # label\n",
        "y_test = scaler.transform(y_test) # label"
      ],
      "metadata": {
        "id": "ffojuEJYJISv"
      },
      "execution_count": null,
      "outputs": []
    },
    {
      "cell_type": "code",
      "source": [
        "scaler.mean_, scaler.mean_.shape"
      ],
      "metadata": {
        "id": "PisOTxOdB0-E",
        "outputId": "ab2db254-9126-4c92-a2b8-d308a86bbd67",
        "colab": {
          "base_uri": "https://localhost:8080/"
        }
      },
      "execution_count": null,
      "outputs": [
        {
          "output_type": "execute_result",
          "data": {
            "text/plain": [
              "(array([13.80993637, 13.84408457, 13.85898587, ..., 14.01822294,\n",
              "        14.04373283, 14.08568917]),\n",
              " (1024,))"
            ]
          },
          "metadata": {},
          "execution_count": 62
        }
      ]
    },
    {
      "cell_type": "code",
      "source": [
        "# check shapes\n",
        "print(X_train.shape, X_test.shape, y_train.shape, y_test.shape)"
      ],
      "metadata": {
        "colab": {
          "base_uri": "https://localhost:8080/"
        },
        "id": "3WNN1oQYKvbq",
        "outputId": "9b681e82-feec-4f8f-9ee5-2a1b5021aaa8"
      },
      "execution_count": null,
      "outputs": [
        {
          "output_type": "stream",
          "name": "stdout",
          "text": [
            "(1556, 1024) (668, 1024) (1556, 1024) (668, 1024)\n"
          ]
        }
      ]
    },
    {
      "cell_type": "code",
      "source": [
        "# create fully connected autoencoder\n",
        "model = keras.Sequential()\n",
        "\n",
        "# input\n",
        "model.add(keras.Input(shape=(1024))) # features\n",
        "\n",
        "# encoder\n",
        "# hidden layers\n",
        "model.add(layers.Dense(32, activation=\"relu\"))\n",
        "model.add(layers.Dense(8, activation=\"relu\"))\n",
        "\n",
        "model.add(layers.Dense(2, activation=\"relu\"))\n",
        "\n",
        "# decoder\n",
        "\n",
        "model.add(layers.Dense(8, activation=\"relu\"))\n",
        "model.add(layers.Dense(32, activation=\"relu\"))\n",
        "\n",
        "# Finally, we add last layer\n",
        "model.add(layers.Dense(1024, activation='linear')) # back to the original shape\n",
        "\n",
        "# print model summary\n",
        "model.summary()"
      ],
      "metadata": {
        "colab": {
          "base_uri": "https://localhost:8080/"
        },
        "id": "n4JnAwI1J9Bk",
        "outputId": "566e7241-71e1-447e-e233-cde79b504412"
      },
      "execution_count": null,
      "outputs": [
        {
          "output_type": "stream",
          "name": "stdout",
          "text": [
            "Model: \"sequential_2\"\n",
            "_________________________________________________________________\n",
            " Layer (type)                Output Shape              Param #   \n",
            "=================================================================\n",
            " dense_11 (Dense)            (None, 32)                32800     \n",
            "                                                                 \n",
            " dense_12 (Dense)            (None, 8)                 264       \n",
            "                                                                 \n",
            " dense_13 (Dense)            (None, 2)                 18        \n",
            "                                                                 \n",
            " dense_14 (Dense)            (None, 8)                 24        \n",
            "                                                                 \n",
            " dense_15 (Dense)            (None, 32)                288       \n",
            "                                                                 \n",
            " dense_16 (Dense)            (None, 1024)              33792     \n",
            "                                                                 \n",
            "=================================================================\n",
            "Total params: 67186 (262.45 KB)\n",
            "Trainable params: 67186 (262.45 KB)\n",
            "Non-trainable params: 0 (0.00 Byte)\n",
            "_________________________________________________________________\n"
          ]
        }
      ]
    },
    {
      "cell_type": "code",
      "source": [
        "METRICS = [\n",
        "    keras.metrics.MeanSquaredError(name='mean_squared_error'),\n",
        "    keras.metrics.RootMeanSquaredError(name='root_mean_squared_error'),\n",
        "]\n",
        "\n",
        "model.compile(\n",
        "    optimizer=keras.optimizers.Adam(learning_rate=0.001),\n",
        "    loss=\"mean_squared_error\",\n",
        "    metrics=METRICS\n",
        ")\n",
        "\n",
        "BATCH_SIZE = 32\n",
        "EPOCHS = 10"
      ],
      "metadata": {
        "id": "NTMiTP9ELYO9"
      },
      "execution_count": null,
      "outputs": []
    },
    {
      "cell_type": "code",
      "source": [
        "history = model.fit(\n",
        "    x=X_train,\n",
        "    y=y_train,\n",
        "    batch_size=BATCH_SIZE,\n",
        "    epochs=EPOCHS,\n",
        "    validation_split=0.1,\n",
        "    shuffle=True,\n",
        ")"
      ],
      "metadata": {
        "colab": {
          "base_uri": "https://localhost:8080/"
        },
        "id": "y5dS4BDILYLA",
        "outputId": "4db93716-11e5-4734-8712-b71c4ddda7f8"
      },
      "execution_count": null,
      "outputs": [
        {
          "output_type": "stream",
          "name": "stdout",
          "text": [
            "Epoch 1/10\n",
            "44/44 [==============================] - 2s 10ms/step - loss: 0.8170 - mean_squared_error: 0.8170 - root_mean_squared_error: 0.9039 - val_loss: 0.2887 - val_mean_squared_error: 0.2887 - val_root_mean_squared_error: 0.5373\n",
            "Epoch 2/10\n",
            "44/44 [==============================] - 0s 5ms/step - loss: 0.6139 - mean_squared_error: 0.6139 - root_mean_squared_error: 0.7835 - val_loss: 0.2610 - val_mean_squared_error: 0.2610 - val_root_mean_squared_error: 0.5109\n",
            "Epoch 3/10\n",
            "44/44 [==============================] - 0s 5ms/step - loss: 0.5701 - mean_squared_error: 0.5701 - root_mean_squared_error: 0.7551 - val_loss: 0.2342 - val_mean_squared_error: 0.2342 - val_root_mean_squared_error: 0.4839\n",
            "Epoch 4/10\n",
            "44/44 [==============================] - 0s 5ms/step - loss: 0.5174 - mean_squared_error: 0.5174 - root_mean_squared_error: 0.7193 - val_loss: 0.2049 - val_mean_squared_error: 0.2049 - val_root_mean_squared_error: 0.4527\n",
            "Epoch 5/10\n",
            "44/44 [==============================] - 0s 4ms/step - loss: 0.4558 - mean_squared_error: 0.4558 - root_mean_squared_error: 0.6751 - val_loss: 0.1785 - val_mean_squared_error: 0.1785 - val_root_mean_squared_error: 0.4225\n",
            "Epoch 6/10\n",
            "44/44 [==============================] - 0s 4ms/step - loss: 0.3927 - mean_squared_error: 0.3927 - root_mean_squared_error: 0.6267 - val_loss: 0.1571 - val_mean_squared_error: 0.1571 - val_root_mean_squared_error: 0.3963\n",
            "Epoch 7/10\n",
            "44/44 [==============================] - 0s 5ms/step - loss: 0.3298 - mean_squared_error: 0.3298 - root_mean_squared_error: 0.5743 - val_loss: 0.1394 - val_mean_squared_error: 0.1394 - val_root_mean_squared_error: 0.3734\n",
            "Epoch 8/10\n",
            "44/44 [==============================] - 0s 5ms/step - loss: 0.2775 - mean_squared_error: 0.2775 - root_mean_squared_error: 0.5268 - val_loss: 0.1117 - val_mean_squared_error: 0.1117 - val_root_mean_squared_error: 0.3342\n",
            "Epoch 9/10\n",
            "44/44 [==============================] - 0s 6ms/step - loss: 0.2378 - mean_squared_error: 0.2378 - root_mean_squared_error: 0.4876 - val_loss: 0.1320 - val_mean_squared_error: 0.1320 - val_root_mean_squared_error: 0.3633\n",
            "Epoch 10/10\n",
            "44/44 [==============================] - 0s 5ms/step - loss: 0.2119 - mean_squared_error: 0.2119 - root_mean_squared_error: 0.4603 - val_loss: 0.1226 - val_mean_squared_error: 0.1226 - val_root_mean_squared_error: 0.3501\n"
          ]
        }
      ]
    },
    {
      "cell_type": "code",
      "source": [
        "plt.plot(history.history[\"mean_squared_error\"], c='k')\n",
        "plt.plot(history.history[\"val_mean_squared_error\"], c='r')\n",
        "plt.show()"
      ],
      "metadata": {
        "colab": {
          "base_uri": "https://localhost:8080/",
          "height": 430
        },
        "id": "KIo2XzMzX7xU",
        "outputId": "7c358b07-9175-4559-8e63-4463efa51418"
      },
      "execution_count": null,
      "outputs": [
        {
          "output_type": "display_data",
          "data": {
            "text/plain": [
              "<Figure size 640x480 with 1 Axes>"
            ],
            "image/png": "[encoded data removed]"
          },
          "metadata": {}
        }
      ]
    },
    {
      "cell_type": "code",
      "source": [
        "# evaluation mode\n",
        "y_pred = model.predict(X_test)\n",
        "y_pred.shape, y_test.shape"
      ],
      "metadata": {
        "id": "K5AzQf_8F06e",
        "outputId": "c63d1981-b13d-4914-c37e-52598d48c5de",
        "colab": {
          "base_uri": "https://localhost:8080/"
        }
      },
      "execution_count": null,
      "outputs": [
        {
          "output_type": "stream",
          "name": "stdout",
          "text": [
            "21/21 [==============================] - 0s 2ms/step\n"
          ]
        },
        {
          "output_type": "execute_result",
          "data": {
            "text/plain": [
              "((668, 1024), (668, 1024))"
            ]
          },
          "metadata": {},
          "execution_count": 68
        }
      ]
    },
    {
      "cell_type": "code",
      "source": [
        "plt.scatter(y_test,y_pred)"
      ],
      "metadata": {
        "id": "pxbxdfyPGCiM",
        "outputId": "3cc6ac25-08ba-4b56-b6ad-3251c0e6f04a",
        "colab": {
          "base_uri": "https://localhost:8080/",
          "height": 448
        }
      },
      "execution_count": null,
      "outputs": [
        {
          "output_type": "execute_result",
          "data": {
            "text/plain": [
              "<matplotlib.collections.PathCollection at 0x7d1d0ceaaef0>"
            ]
          },
          "metadata": {},
          "execution_count": 69
        },
        {
          "output_type": "display_data",
          "data": {
            "text/plain": [
              "<Figure size 640x480 with 1 Axes>"
            ],
            "image/png": "[encoded data removed]"
          },
          "metadata": {}
        }
      ]
    },
    {
      "cell_type": "code",
      "source": [
        "# evaluations\n",
        "mse_score = keras.metrics.MeanSquaredError(name='mean_squared_error')\n",
        "mse_score.update_state(y_test,y_pred)\n",
        "mse_score.result().numpy()"
      ],
      "metadata": {
        "id": "tZpBQ7B3GTJ7",
        "outputId": "470a9ee4-bec5-46f1-9c3b-b7abe1567c9d",
        "colab": {
          "base_uri": "https://localhost:8080/"
        }
      },
      "execution_count": null,
      "outputs": [
        {
          "output_type": "execute_result",
          "data": {
            "text/plain": [
              "0.15971597"
            ]
          },
          "metadata": {},
          "execution_count": 70
        }
      ]
    },
    {
      "cell_type": "code",
      "source": [
        "from sklearn.metrics import mean_squared_error\n",
        "mean_squared_error(y_test, y_pred)"
      ],
      "metadata": {
        "id": "4GbLkZr9G_eI",
        "outputId": "ac4ca415-ec9f-4f65-ad6c-4e5ed9a03ca6",
        "colab": {
          "base_uri": "https://localhost:8080/"
        }
      },
      "execution_count": null,
      "outputs": [
        {
          "output_type": "execute_result",
          "data": {
            "text/plain": [
              "0.15971598"
            ]
          },
          "metadata": {},
          "execution_count": 71
        }
      ]
    },
    {
      "cell_type": "code",
      "source": [
        "# keras.backend.function([model.layers[0].input,\n",
        "#                     model.layers[1].input,\n",
        "#                     model.layers[2].input], [model.layers[2].output])"
      ],
      "metadata": {
        "id": "rGRXjCZEIhs1"
      },
      "execution_count": null,
      "outputs": []
    },
    {
      "cell_type": "code",
      "source": [
        "# saving model\n",
        "model.save('autoencodersample.keras')"
      ],
      "metadata": {
        "id": "FP6Vu34_LYD_"
      },
      "execution_count": null,
      "outputs": []
    },
    {
      "cell_type": "code",
      "source": [
        "model2 = keras.models.load_model('autoencodersample.keras')\n",
        "ypred2 = model2.predict(X_test)"
      ],
      "metadata": {
        "id": "xLDGcgXAKPG0",
        "outputId": "8f8f082b-11e4-424c-80aa-6fe084aea70d",
        "colab": {
          "base_uri": "https://localhost:8080/"
        }
      },
      "execution_count": null,
      "outputs": [
        {
          "output_type": "stream",
          "name": "stdout",
          "text": [
            "21/21 [==============================] - 0s 2ms/step\n"
          ]
        }
      ]
    },
    {
      "cell_type": "markdown",
      "source": [
        "## CNN Autoencoder"
      ],
      "metadata": {
        "id": "CnJOrJ4WErKd"
      }
    },
    {
      "cell_type": "code",
      "source": [
        "def z_score(da):\n",
        "    \"\"\"\n",
        "    Compute z-score for training data.\n",
        "    Normalizing data for ML model training.\n",
        "    Args:\n",
        "        da (array): Array of training variable.\n",
        "    \"\"\"\n",
        "    return (da - np.mean(da)) / np.std(da)\n",
        "\n",
        "def z_score_testing(da, testdata):\n",
        "    \"\"\"\n",
        "    Compute z-score for testing data.\n",
        "    Args:\n",
        "        da (array): Array of training variable.\n",
        "    \"\"\"\n",
        "    return (testdata - np.mean(da)) / np.std(da)"
      ],
      "metadata": {
        "id": "8tBktm3K4JNl"
      },
      "execution_count": null,
      "outputs": []
    },
    {
      "cell_type": "code",
      "source": [
        "# reshape data to be samples, features\n",
        "features_data = ds['ctt_grid'].values\n",
        "print(features_data.shape)"
      ],
      "metadata": {
        "colab": {
          "base_uri": "https://localhost:8080/"
        },
        "id": "aVRljSszBQIe",
        "outputId": "bb750069-7e66-4422-b37a-622db9dad43a"
      },
      "execution_count": null,
      "outputs": [
        {
          "output_type": "stream",
          "name": "stdout",
          "text": [
            "(2224, 32, 32)\n"
          ]
        }
      ]
    },
    {
      "cell_type": "code",
      "source": [
        "X_train, X_test, y_train, y_test = features_data[:1800], features_data[1800:], features_data[:1800], features_data[1800:]"
      ],
      "metadata": {
        "id": "Whxd2_cZ3k8W"
      },
      "execution_count": null,
      "outputs": []
    },
    {
      "cell_type": "code",
      "source": [
        "# Remember: train/test/split happens before rescale\n",
        "X_test = z_score_testing(X_train, X_test) # input\n",
        "y_test = z_score_testing(y_train, y_test) # label\n",
        "\n",
        "X_train = z_score(X_train) # input\n",
        "y_train = z_score(y_train) # label\n"
      ],
      "metadata": {
        "id": "6xmsBq_k3k2r"
      },
      "execution_count": null,
      "outputs": []
    },
    {
      "cell_type": "code",
      "source": [
        "# check shapes\n",
        "print(X_train.shape, X_test.shape, y_train.shape, y_test.shape)"
      ],
      "metadata": {
        "colab": {
          "base_uri": "https://localhost:8080/"
        },
        "id": "dXCWZMpj3kw6",
        "outputId": "591a9856-490f-446e-de61-b49f6e27ae5d"
      },
      "execution_count": null,
      "outputs": [
        {
          "output_type": "stream",
          "name": "stdout",
          "text": [
            "(1800, 32, 32) (424, 32, 32) (1800, 32, 32) (424, 32, 32)\n"
          ]
        }
      ]
    },
    {
      "cell_type": "code",
      "source": [
        "model = keras.Sequential()\n",
        "\n",
        "# input\n",
        "model.add(keras.Input(shape=(32, 32, 1)))  # 32x32 images\n",
        "\n",
        "# encoder\n",
        "# hidden layers\n",
        "model.add(layers.Conv2D(16, 3, strides=1, padding=\"same\", activation=\"relu\"))\n",
        "model.add(layers.MaxPooling2D(2))\n",
        "\n",
        "model.add(layers.Conv2D(8, 3, strides=1, padding=\"same\", activation=\"relu\"))\n",
        "model.add(layers.MaxPooling2D(2))\n",
        "\n",
        "model.add(layers.Conv2D(4, 3, strides=1, padding=\"same\", activation=\"relu\"))\n",
        "model.add(layers.MaxPooling2D(2))\n",
        "\n",
        "# decoder\n",
        "model.add(layers.Conv2D(4, 3, strides=1, padding=\"same\", activation=\"relu\"))\n",
        "model.add(layers.UpSampling2D(2))\n",
        "\n",
        "model.add(layers.Conv2D(8, 3, strides=1, padding=\"same\", activation=\"relu\"))\n",
        "model.add(layers.UpSampling2D(2))\n",
        "\n",
        "model.add(layers.Conv2D(16, 3, strides=1, padding=\"same\", activation=\"relu\"))\n",
        "model.add(layers.UpSampling2D(2))\n",
        "\n",
        "# Finally, we add last layer\n",
        "model.add(layers.Conv2D(1, (3, 3), activation='linear', padding='same'))\n",
        "\n",
        "# print model summary\n",
        "model.summary()"
      ],
      "metadata": {
        "colab": {
          "base_uri": "https://localhost:8080/"
        },
        "id": "AzQMwzPt3kpH",
        "outputId": "0dd34d34-a42b-417b-a86f-869e82adb5c9"
      },
      "execution_count": null,
      "outputs": [
        {
          "output_type": "stream",
          "name": "stdout",
          "text": [
            "Model: \"sequential_3\"\n",
            "_________________________________________________________________\n",
            " Layer (type)                Output Shape              Param #   \n",
            "=================================================================\n",
            " conv2d (Conv2D)             (None, 32, 32, 16)        160       \n",
            "                                                                 \n",
            " max_pooling2d (MaxPooling2  (None, 16, 16, 16)        0         \n",
            " D)                                                              \n",
            "                                                                 \n",
            " conv2d_1 (Conv2D)           (None, 16, 16, 8)         1160      \n",
            "                                                                 \n",
            " max_pooling2d_1 (MaxPoolin  (None, 8, 8, 8)           0         \n",
            " g2D)                                                            \n",
            "                                                                 \n",
            " conv2d_2 (Conv2D)           (None, 8, 8, 4)           292       \n",
            "                                                                 \n",
            " max_pooling2d_2 (MaxPoolin  (None, 4, 4, 4)           0         \n",
            " g2D)                                                            \n",
            "                                                                 \n",
            " conv2d_3 (Conv2D)           (None, 4, 4, 4)           148       \n",
            "                                                                 \n",
            " up_sampling2d (UpSampling2  (None, 8, 8, 4)           0         \n",
            " D)                                                              \n",
            "                                                                 \n",
            " conv2d_4 (Conv2D)           (None, 8, 8, 8)           296       \n",
            "                                                                 \n",
            " up_sampling2d_1 (UpSamplin  (None, 16, 16, 8)         0         \n",
            " g2D)                                                            \n",
            "                                                                 \n",
            " conv2d_5 (Conv2D)           (None, 16, 16, 16)        1168      \n",
            "                                                                 \n",
            " up_sampling2d_2 (UpSamplin  (None, 32, 32, 16)        0         \n",
            " g2D)                                                            \n",
            "                                                                 \n",
            " conv2d_6 (Conv2D)           (None, 32, 32, 1)         145       \n",
            "                                                                 \n",
            "=================================================================\n",
            "Total params: 3369 (13.16 KB)\n",
            "Trainable params: 3369 (13.16 KB)\n",
            "Non-trainable params: 0 (0.00 Byte)\n",
            "_________________________________________________________________\n"
          ]
        }
      ]
    },
    {
      "cell_type": "code",
      "source": [
        "METRICS = [\n",
        "    keras.metrics.MeanSquaredError(name='mean_squared_error'),\n",
        "    keras.metrics.RootMeanSquaredError(name='root_mean_squared_error'),\n",
        "]\n",
        "\n",
        "model.compile(\n",
        "    optimizer=keras.optimizers.Adam(learning_rate=0.001),\n",
        "    loss=\"mean_squared_error\",\n",
        "    metrics=METRICS\n",
        ")\n",
        "\n",
        "BATCH_SIZE = 32\n",
        "EPOCHS = 10"
      ],
      "metadata": {
        "id": "teBOl4-45KCx"
      },
      "execution_count": null,
      "outputs": []
    },
    {
      "cell_type": "code",
      "source": [
        "history = model.fit(\n",
        "    x=X_train,\n",
        "    y=y_train,\n",
        "    batch_size=BATCH_SIZE,\n",
        "    epochs=EPOCHS,\n",
        "    validation_split=0.1,\n",
        "    shuffle=True,\n",
        ")"
      ],
      "metadata": {
        "colab": {
          "base_uri": "https://localhost:8080/"
        },
        "id": "vkufMFbc5J9C",
        "outputId": "07206821-c70a-47dd-aa15-c1acbaaf4bb9"
      },
      "execution_count": null,
      "outputs": [
        {
          "output_type": "stream",
          "name": "stdout",
          "text": [
            "Epoch 1/10\n",
            "51/51 [==============================] - 4s 47ms/step - loss: 0.4956 - mean_squared_error: 0.4956 - root_mean_squared_error: 0.7040 - val_loss: 0.9203 - val_mean_squared_error: 0.9203 - val_root_mean_squared_error: 0.9593\n",
            "Epoch 2/10\n",
            "51/51 [==============================] - 2s 43ms/step - loss: 0.2287 - mean_squared_error: 0.2287 - root_mean_squared_error: 0.4782 - val_loss: 0.4263 - val_mean_squared_error: 0.4263 - val_root_mean_squared_error: 0.6529\n",
            "Epoch 3/10\n",
            "51/51 [==============================] - 3s 66ms/step - loss: 0.0926 - mean_squared_error: 0.0926 - root_mean_squared_error: 0.3044 - val_loss: 0.1151 - val_mean_squared_error: 0.1151 - val_root_mean_squared_error: 0.3392\n",
            "Epoch 4/10\n",
            "51/51 [==============================] - 2s 42ms/step - loss: 0.0571 - mean_squared_error: 0.0571 - root_mean_squared_error: 0.2389 - val_loss: 0.0885 - val_mean_squared_error: 0.0885 - val_root_mean_squared_error: 0.2974\n",
            "Epoch 5/10\n",
            "51/51 [==============================] - 2s 42ms/step - loss: 0.0458 - mean_squared_error: 0.0458 - root_mean_squared_error: 0.2141 - val_loss: 0.0657 - val_mean_squared_error: 0.0657 - val_root_mean_squared_error: 0.2562\n",
            "Epoch 6/10\n",
            "51/51 [==============================] - 2s 40ms/step - loss: 0.0390 - mean_squared_error: 0.0390 - root_mean_squared_error: 0.1975 - val_loss: 0.0571 - val_mean_squared_error: 0.0571 - val_root_mean_squared_error: 0.2390\n",
            "Epoch 7/10\n",
            "51/51 [==============================] - 2s 41ms/step - loss: 0.0358 - mean_squared_error: 0.0358 - root_mean_squared_error: 0.1893 - val_loss: 0.0542 - val_mean_squared_error: 0.0542 - val_root_mean_squared_error: 0.2328\n",
            "Epoch 8/10\n",
            "51/51 [==============================] - 3s 52ms/step - loss: 0.0339 - mean_squared_error: 0.0339 - root_mean_squared_error: 0.1842 - val_loss: 0.0488 - val_mean_squared_error: 0.0488 - val_root_mean_squared_error: 0.2209\n",
            "Epoch 9/10\n",
            "51/51 [==============================] - 3s 52ms/step - loss: 0.0305 - mean_squared_error: 0.0305 - root_mean_squared_error: 0.1748 - val_loss: 0.0540 - val_mean_squared_error: 0.0540 - val_root_mean_squared_error: 0.2323\n",
            "Epoch 10/10\n",
            "51/51 [==============================] - 2s 42ms/step - loss: 0.0288 - mean_squared_error: 0.0288 - root_mean_squared_error: 0.1697 - val_loss: 0.0422 - val_mean_squared_error: 0.0422 - val_root_mean_squared_error: 0.2054\n"
          ]
        }
      ]
    },
    {
      "cell_type": "code",
      "source": [
        "plt.plot(history.history[\"mean_squared_error\"], c='k')\n",
        "plt.plot(history.history[\"val_mean_squared_error\"], c='r')\n",
        "plt.show()"
      ],
      "metadata": {
        "colab": {
          "base_uri": "https://localhost:8080/",
          "height": 430
        },
        "id": "sr2Dr77c5J05",
        "outputId": "673102ce-358e-49d6-e71b-e1d17806a47e"
      },
      "execution_count": null,
      "outputs": [
        {
          "output_type": "display_data",
          "data": {
            "text/plain": [
              "<Figure size 640x480 with 1 Axes>"
            ],
            "image/png": "[encoded data removed]"
          },
          "metadata": {}
        }
      ]
    },
    {
      "cell_type": "code",
      "source": [
        "# saving model\n",
        "# evaluation mode\n",
        "# evaluations"
      ],
      "metadata": {
        "id": "KMa7dgXE5WpG"
      },
      "execution_count": null,
      "outputs": []
    },
    {
      "cell_type": "code",
      "source": [
        "# for predict anomalies/outliers in the training dataset\n",
        "#prediction = model.predict(test_feats_standardized.values)\n",
        "\n",
        "# for get the mean absolute error between actual and reconstruction/prediction\n",
        "#prediction_loss = keras.losses.mae(prediction, test_feats_standardized.values)"
      ],
      "metadata": {
        "id": "rtT5yvYC5mdS"
      },
      "execution_count": null,
      "outputs": []
    },
    {
      "cell_type": "markdown",
      "source": [
        "## CNN Autoencoder Noise Removal"
      ],
      "metadata": {
        "id": "It_XWynZEtsc"
      }
    },
    {
      "cell_type": "code",
      "execution_count": null,
      "metadata": {
        "id": "4d682kwu-tLe"
      },
      "outputs": [],
      "source": [
        "def noise(array):\n",
        "    \"\"\"Adds random noise to each image in the supplied array.\"\"\"\n",
        "    noise_factor = 0.4\n",
        "    noisy_array = array + noise_factor * np.random.normal(\n",
        "        loc=0.0, scale=1.0, size=array.shape\n",
        "    )\n",
        "    return np.clip(noisy_array, 0.0, 1.0)"
      ]
    },
    {
      "cell_type": "code",
      "source": [
        "# Create a copy of the data with added noise\n",
        "#noisy_train_data = noise(train_data)\n",
        "#noisy_test_data = noise(test_data)"
      ],
      "metadata": {
        "id": "8YjOpKPvBQF4"
      },
      "execution_count": null,
      "outputs": []
    },
    {
      "cell_type": "code",
      "source": [],
      "metadata": {
        "id": "SfUSdJXiBP9T"
      },
      "execution_count": null,
      "outputs": []
    },
    {
      "cell_type": "code",
      "source": [],
      "metadata": {
        "id": "CEXwYXwZBP2h"
      },
      "execution_count": null,
      "outputs": []
    },
    {
      "cell_type": "code",
      "source": [],
      "metadata": {
        "id": "ApqtvKmTBZ1j"
      },
      "execution_count": null,
      "outputs": []
    },
    {
      "cell_type": "code",
      "source": [
        "# Evaluate the model on the test data using `evaluate`\n",
        "print(\"Evaluate on test data\")\n",
        "results = model.evaluate(test_feats_standardized.values, test_feats_standardized.values, batch_size=128)\n",
        "print(results)"
      ],
      "metadata": {
        "id": "MytV_c6nBZrp"
      },
      "execution_count": null,
      "outputs": []
    },
    {
      "cell_type": "code",
      "source": [
        "\n",
        "\n",
        "# for check the prediction loss threshold for 2% of outliers\n",
        "#loss_threshold = np.percentile(np.mean(prediction_loss, axis=(1,2)), 98)\n",
        "\n",
        "#print(f'The prediction loss threshold for 2% of outliers is {loss_threshold:.2f}')\n",
        "# for visualize the threshold\n",
        "#plt.hist(np.mean(prediction_loss, axis=(1,2)), bins=30, alpha=0.8)\n",
        "#plt.axvline(x=loss_threshold, color='orange')\n",
        "#plt.show()"
      ],
      "metadata": {
        "id": "Lyv_iWs2BZny"
      },
      "execution_count": null,
      "outputs": []
    }
  ]
}